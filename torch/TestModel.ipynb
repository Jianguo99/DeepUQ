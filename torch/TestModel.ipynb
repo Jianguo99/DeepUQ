{
 "cells": [
  {
   "cell_type": "code",
   "execution_count": 83,
   "metadata": {},
   "outputs": [],
   "source": [
    "import torch\n",
    "from model import FNN,LossFNN,LossFNNSwish\n",
    "import os\n",
    "import numpy as np\n",
    "import joblib\n",
    "import math\n",
    "from  tqdm import tqdm \n",
    "os.environ['TF_CPP_MIN_LOG_LEVEL'] = '2'  # or any {'0', '1', '2'}\n",
    "from matplotlib import pyplot as plt\n",
    "import matplotlib.gridspec as gridspec\n"
   ]
  },
  {
   "cell_type": "code",
   "execution_count": 6,
   "metadata": {},
   "outputs": [],
   "source": [
    "l_N = 60   # lengthscale对的数量\n",
    "k_ ='rbf'\n",
    "nx = 32\n",
    "ny = 32\n",
    "num_samples = 100   # 每个随机场采样的样本数\n",
    "datadir = \"/home/huangjg/MyFiles/deep-uq-paper/data\""
   ]
  },
  {
   "cell_type": "code",
   "execution_count": 13,
   "metadata": {},
   "outputs": [
    {
     "name": "stdout",
     "output_type": "stream",
     "text": [
      "数据加载成功！\n"
     ]
    }
   ],
   "source": [
    "\n",
    "\n",
    "cellcentersFile = \"cellcenters_\"+\"nx_\"+str(nx)+\"_\"+str(ny)+\".pkl\"\n",
    "cellcenters = joblib.load(os.path.join(datadir,cellcentersFile))\n",
    "# TrainDataFile = k_+\"_l_N_\"+str(l_N)+\"_num_samples_\"+str(num_samples)+\\\n",
    "#                     \"_nx_\"+str(nx)+\"_ny_\"+str(ny)+\"_train.pkl\"\n",
    "\n",
    "# TrainData = joblib.load(os.path.join(datadir,TrainDataFile))\n",
    "\n",
    "train_mean_label,train_std_label = joblib.load(\"norm_std.pkl\")\n",
    "\n",
    "print(\"数据加载成功！\")"
   ]
  },
  {
   "cell_type": "code",
   "execution_count": 7,
   "metadata": {},
   "outputs": [
    {
     "name": "stdout",
     "output_type": "stream",
     "text": [
      "数据加载成功！\n"
     ]
    }
   ],
   "source": [
    "AllDataFile = k_+\"_l_N_\"+str(100)+\"_num_samples_\"+str(num_samples)+\\\n",
    "                    \"_nx_\"+str(nx)+\"_ny_\"+str(ny)+\"_val.pkl\"\n",
    "\n",
    "Val_all_data = joblib.load(os.path.join(datadir,AllDataFile))\n",
    "print(\"数据加载成功！\")"
   ]
  },
  {
   "cell_type": "code",
   "execution_count": 23,
   "metadata": {},
   "outputs": [
    {
     "data": {
      "text/plain": [
       "FNN(\n",
       "  (seq_model): Sequential(\n",
       "    (1): Linear(in_features=1026, out_features=421, bias=True)\n",
       "    (1_Relu): ReLU()\n",
       "    (2): Linear(in_features=421, out_features=173, bias=True)\n",
       "    (2_Relu): ReLU()\n",
       "    (3): Linear(in_features=173, out_features=71, bias=True)\n",
       "    (3_Relu): ReLU()\n",
       "    (4): Linear(in_features=71, out_features=30, bias=True)\n",
       "    (4_Relu): ReLU()\n",
       "    (5): Linear(in_features=30, out_features=12, bias=True)\n",
       "    (5_Relu): ReLU()\n",
       "    (6): Linear(in_features=12, out_features=5, bias=True)\n",
       "    (6_Relu): ReLU()\n",
       "    (7): Linear(in_features=5, out_features=3, bias=True)\n",
       "    (8): Linear(in_features=3, out_features=600, bias=True)\n",
       "    (8_Relu): ReLU()\n",
       "    (9): Linear(in_features=600, out_features=1, bias=True)\n",
       "  )\n",
       ")"
      ]
     },
     "execution_count": 23,
     "metadata": {},
     "output_type": "execute_result"
    }
   ],
   "source": [
    "# 模型加载\n",
    "MyModel = FNN(1026,7,2)\n",
    "save_model_name = k_+\"_l_N_\"+str(l_N)+\"_num_samples_\"+str(num_samples)+\\\n",
    "                    \"_nx_\"+str(nx)+\"_ny_\"+str(ny)+\"_train_meta.pth\"\n",
    "MyModel.load_state_dict(torch.load(os.path.join(\"/home/huangjg/MyFiles/deep-uq-paper/torch\",\"pth\",save_model_name)) ) #  保存模型参数)\n",
    "MyModel.cuda()\n",
    "MyModel.eval()"
   ]
  },
  {
   "cell_type": "code",
   "execution_count": 24,
   "metadata": {},
   "outputs": [
    {
     "name": "stderr",
     "output_type": "stream",
     "text": [
      "100%|██████████| 100/100 [01:01<00:00,  1.63it/s]\n"
     ]
    }
   ],
   "source": [
    "errorl2_list = []\n",
    "# 遍历所有的lengthscale 设置\n",
    "\n",
    "for i in tqdm(range(100)):\n",
    "    # 遍历每个lengthscale的采样例子\n",
    "    errorl2_Forlengthscale=[]\n",
    "    for j in range(num_samples):\n",
    "        Inputs =[]\n",
    "        randomFiled_input = Val_all_data[i]['randomfield_sample'][j].reshape((1,-1))\n",
    "        outputs =Val_all_data[i]['outputs'][j].reshape((1,-1))  #FVM 计算出的值\n",
    "        # outputs = (outputs-train_std_label)/train_std_label\n",
    "        pre_label = []  #存储预测指数\n",
    "        for k in range(nx*ny):\n",
    "            input = np.append(randomFiled_input,cellcenters[k])\n",
    "            Inputs.append(input)\n",
    "        Inputs = np.array(Inputs,dtype=np.float32)\n",
    "        Inputs = torch.from_numpy(Inputs).cuda()\n",
    "        pre_label = MyModel(Inputs).detach().cpu().numpy()\n",
    "        pre_label = train_std_label*pre_label+train_mean_label\n",
    "        one_errorl2=np.linalg.norm(pre_label.squeeze()-outputs.squeeze())/np.linalg.norm(outputs.squeeze())\n",
    "        errorl2_Forlengthscale.append(one_errorl2)\n",
    "    errorl2_list.append(np.mean(errorl2_Forlengthscale,axis=0))\n",
    "    "
   ]
  },
  {
   "cell_type": "code",
   "execution_count": 25,
   "metadata": {},
   "outputs": [
    {
     "data": {
      "image/png": "[encoded data removed]",
      "text/plain": [
       "<Figure size 432x288 with 2 Axes>"
      ]
     },
     "metadata": {
      "needs_background": "light"
     },
     "output_type": "display_data"
    }
   ],
   "source": [
    "from matplotlib import pyplot as plt\n",
    "\n",
    "errorarray = np.array(errorl2_list).reshape((10,10))\n",
    "\n",
    "\n",
    "\n",
    "fig = plt.figure(constrained_layout=True)\n",
    "nrows, ncols = 1, 2\n",
    "w1, w2 = 20, 1\n",
    "gspec = gridspec.GridSpec(ncols=ncols, nrows=nrows, figure=fig, width_ratios=[w1, w2])\n",
    "\n",
    "ax = plt.subplot(gspec[0, 0], aspect=w1)\n",
    "ax.set_xlim(0, 1)\n",
    "ax.set_xticks(np.linspace(0, 1, 4 + 1))\n",
    "ax.set_xlabel(\"X Label\")\n",
    "ax.set_ylim(0, 1)\n",
    "ax.set_yticks(np.linspace(0, 1, 4 + 1))\n",
    "ax.set_ylabel(\"Y Label\")\n",
    "ax.set_title(\"Title\", family=\"Roboto\", weight=500)\n",
    "I = ax.imshow(errorarray[::-1,:], extent=[0, 1, 0, 1])\n",
    "\n",
    "ax = plt.subplot(gspec[0, 1], aspect='auto')\n",
    "plt.colorbar(I, cax=ax,shrink=0.5,format='%.3f')\n",
    "\n",
    "plt.show()"
   ]
  },
  {
   "cell_type": "code",
   "execution_count": 100,
   "metadata": {},
   "outputs": [
    {
     "data": {
      "image/png": "[encoded data removed]",
      "text/plain": [
       "<Figure size 864x864 with 4 Axes>"
      ]
     },
     "metadata": {
      "needs_background": "light"
     },
     "output_type": "display_data"
    }
   ],
   "source": [
    "i = 99\n",
    "j = 0\n",
    "x= np.linspace(1/nx,1,100)\n",
    "y= np.linspace(1/ny,1,100)\n",
    "X,Y = np.meshgrid(x,y)\n",
    "coord = np.stack((X,Y), axis=2).reshape(-1,2) \n",
    "Inputs=[]\n",
    "for k in range(100*100):\n",
    "    input = np.append(randomFiled_input,coord[k])\n",
    "    Inputs.append(input)\n",
    "pre_label = model.predict(np.array(Inputs))\n",
    "pre_label = train_std_label*pre_label+train_mean_label\n",
    "pre_label = pre_label.reshape((100,100))\n",
    "\n",
    "\n",
    "\n",
    "\n",
    "x= np.linspace(1/nx,1,10)\n",
    "y= np.linspace(1/ny,1,10)\n",
    "X,Y = np.meshgrid(x,y)\n",
    "coord = np.stack((X,Y), axis=2).reshape(-1,2) \n",
    "\n",
    "\n",
    "fig = plt.figure(figsize=(12,12),constrained_layout=True)\n",
    "nrows, ncols = 1, 4\n",
    "w1, w2 = 20, 1\n",
    "gspec = gridspec.GridSpec(ncols=ncols, nrows=nrows, figure=fig, width_ratios=[w1,w2,w1,w2])\n",
    "\n",
    "ax = plt.subplot(gspec[0, 0], aspect=1)\n",
    "ax.set_xlim(0, 1)\n",
    "ax.set_xticks(np.linspace(0, 1, 4 + 1))\n",
    "ax.set_xlabel(\"X \")\n",
    "ax.set_ylim(0, 1)\n",
    "ax.set_yticks(np.linspace(0, 1, 4 + 1))\n",
    "ax.set_ylabel(\"Y\")\n",
    "ax.set_title(\"Title\", family=\"Roboto\", weight=500)\n",
    "ax.invert_yaxis()\n",
    "I = ax.imshow(Val_all_data[i]['randomfield_sample'][j], extent=[0, 1, 0, 1])\n",
    "ax = plt.subplot(gspec[0, 1], aspect=w1//2)\n",
    "plt.colorbar(I, cax=ax)\n",
    "\n",
    "\n",
    "ax = plt.subplot(gspec[0, 2], aspect=1)\n",
    "ax.set_xlim(0, 1)\n",
    "ax.set_xticks(np.linspace(0, 1, 4 + 1))\n",
    "ax.set_xlabel(\"X \")\n",
    "ax.set_ylim(0, 1)\n",
    "ax.set_yticks(np.linspace(0, 1, 4 + 1))\n",
    "ax.set_ylabel(\"Y\")\n",
    "ax.set_title(\"Title\", family=\"Roboto\", weight=500)\n",
    "ax.invert_yaxis()\n",
    "I = ax.imshow(pre_label, extent=[0, 1, 0, 1])\n",
    "ax = plt.subplot(gspec[0, 3], aspect=w1)\n",
    "plt.colorbar(I, cax=ax)\n",
    "\n",
    "\n",
    "plt.show()"
   ]
  },
  {
   "cell_type": "markdown",
   "metadata": {},
   "source": [
    "# 不确定性量化"
   ]
  },
  {
   "cell_type": "code",
   "execution_count": 47,
   "metadata": {},
   "outputs": [
    {
     "name": "stdout",
     "output_type": "stream",
     "text": [
      "length scale 为  [0.03125, 0.03125]\n",
      "空间坐标为  [0.953125 0.015625]\n"
     ]
    }
   ],
   "source": [
    "# 遍历所有的lengthscale 设置\n",
    "i=0  # 选取第一个length scale对\n",
    "k = 30 # 选取的坐标位置\n",
    "\n",
    "lengthscale_pair = Val_all_data[i]['lengthscale_pair']\n",
    "input_x = cellcenters[k]\n",
    "print(\"length scale 为 \",lengthscale_pair)\n",
    "print(\"空间坐标为 \",input_x)"
   ]
  },
  {
   "cell_type": "code",
   "execution_count": 48,
   "metadata": {},
   "outputs": [],
   "source": [
    "Inputs =[]\n",
    "for j in range(num_samples):\n",
    "    \n",
    "    randomFiled_input = Val_all_data[i]['randomfield_sample'][j].reshape((1,-1))\n",
    "    outputs =Val_all_data[i]['outputs'][j].reshape((1,-1))  #FVM 计算出的值\n",
    "    # outputs = (outputs-train_std_label)/train_std_label\n",
    "    pre_label = []  #存储预测指数\n",
    "    \n",
    "    input = np.append(randomFiled_input,input_x)\n",
    "    Inputs.append(input)\n",
    "Inputs = np.array(Inputs,dtype=np.float32)\n",
    "Inputs = torch.from_numpy(Inputs).cuda()\n",
    "pre_label = MyModel(Inputs).detach().cpu().numpy()\n",
    "pre_label = train_std_label*pre_label+train_mean_label\n",
    "# one_errorl2=np.linalg.norm(pre_label.squeeze()-outputs.squeeze())/np.linalg.norm(outputs.squeeze())\n",
    "# errorl2_Forlengthscale.append(one_errorl2)\n",
    "# errorl2_list.append(np.mean(errorl2_Forlengthscale,axis=0))"
   ]
  },
  {
   "cell_type": "code",
   "execution_count": 49,
   "metadata": {},
   "outputs": [
    {
     "data": {
      "image/png": "[encoded data removed]",
      "text/plain": [
       "<Figure size 432x288 with 1 Axes>"
      ]
     },
     "metadata": {
      "needs_background": "light"
     },
     "output_type": "display_data"
    }
   ],
   "source": [
    "\n",
    "fre_tuple = plt.hist(pre_label, bins=50, color='steelblue') # 返回值元组\n",
    "plt.show()"
   ]
  },
  {
   "cell_type": "code",
   "execution_count": 2,
   "metadata": {},
   "outputs": [],
   "source": [
    "loss_list = joblib.load(os.path.join(\"/home/huangjg/MyFiles/deep-uq-paper/torch/pth\",\"loss_list.pkl\"))"
   ]
  },
  {
   "cell_type": "code",
   "execution_count": 3,
   "metadata": {},
   "outputs": [
    {
     "data": {
      "image/png": "[encoded data removed]",
      "text/plain": [
       "<Figure size 432x288 with 1 Axes>"
      ]
     },
     "metadata": {
      "needs_background": "light"
     },
     "output_type": "display_data"
    }
   ],
   "source": [
    "plt.plot(loss_list)\n",
    "plt.show()"
   ]
  },
  {
   "cell_type": "markdown",
   "metadata": {},
   "source": [
    "# 多保真结果测试"
   ]
  },
  {
   "cell_type": "code",
   "execution_count": 75,
   "metadata": {},
   "outputs": [
    {
     "name": "stdout",
     "output_type": "stream",
     "text": [
      "0.0005513662228722254 0.03950530089254518\n"
     ]
    }
   ],
   "source": [
    "# 误差修正的方差和均值\n",
    "\n",
    "high_mean,high_std  =joblib.load(os.path.join(datadir,k_+\"_l_N_\"+str(l_N)+\"_num_samples_\"+str(num_samples)+\\\n",
    "                    \"_nx_\"+str(nx)+\"_ny_\"+str(ny)+\"_train_low.pkl\"    ))['normal']\n",
    "print(high_mean,high_std)"
   ]
  },
  {
   "cell_type": "code",
   "execution_count": 76,
   "metadata": {},
   "outputs": [
    {
     "data": {
      "text/plain": [
       "FNN(\n",
       "  (seq_model): Sequential(\n",
       "    (1): Linear(in_features=1026, out_features=421, bias=True)\n",
       "    (1_Relu): ReLU()\n",
       "    (2): Linear(in_features=421, out_features=173, bias=True)\n",
       "    (2_Relu): ReLU()\n",
       "    (3): Linear(in_features=173, out_features=71, bias=True)\n",
       "    (3_Relu): ReLU()\n",
       "    (4): Linear(in_features=71, out_features=30, bias=True)\n",
       "    (4_Relu): ReLU()\n",
       "    (5): Linear(in_features=30, out_features=12, bias=True)\n",
       "    (5_Relu): ReLU()\n",
       "    (6): Linear(in_features=12, out_features=5, bias=True)\n",
       "    (6_Relu): ReLU()\n",
       "    (7): Linear(in_features=5, out_features=3, bias=True)\n",
       "    (8): Linear(in_features=3, out_features=600, bias=True)\n",
       "    (8_Relu): ReLU()\n",
       "    (9): Linear(in_features=600, out_features=1, bias=True)\n",
       "  )\n",
       ")"
      ]
     },
     "execution_count": 76,
     "metadata": {},
     "output_type": "execute_result"
    }
   ],
   "source": [
    "# 模型加载\n",
    "HModel = LossFNNSwish(1026,15,1)\n",
    "save_model_name = k_+\"_l_N_\"+str(l_N)+\"_num_samples_\"+str(num_samples)+\\\n",
    "                    \"_nx_\"+str(nx)+\"_ny_\"+str(ny)+\"_train_high_swish.pth\"\n",
    "HModel.load_state_dict(torch.load(os.path.join(\"/home/huangjg/MyFiles/deep-uq-paper/torch\",\"pth\",save_model_name)) ) #  保存模型参数)\n",
    "HModel.cuda()\n",
    "HModel.eval()\n",
    "\n",
    "MyModel = FNN(1026,7,2)\n",
    "save_model_name = k_+\"_l_N_\"+str(l_N)+\"_num_samples_\"+str(num_samples)+\\\n",
    "                    \"_nx_\"+str(nx)+\"_ny_\"+str(ny)+\"_train.pth\"\n",
    "MyModel.load_state_dict(torch.load(os.path.join(\"/home/huangjg/MyFiles/deep-uq-paper/torch\",\"pth\",save_model_name)) ) #  保存模型参数)\n",
    "MyModel.cuda()\n",
    "MyModel.eval()"
   ]
  },
  {
   "cell_type": "code",
   "execution_count": 77,
   "metadata": {},
   "outputs": [
    {
     "data": {
      "text/plain": [
       "LossFNNSwish(\n",
       "  (seq_model): Sequential(\n",
       "    (1): Linear(in_features=1026, out_features=647, bias=True)\n",
       "    (1_SILU): SiLU()\n",
       "    (2): Linear(in_features=647, out_features=408, bias=True)\n",
       "    (2_SILU): SiLU()\n",
       "    (3): Linear(in_features=408, out_features=257, bias=True)\n",
       "    (3_SILU): SiLU()\n",
       "    (4): Linear(in_features=257, out_features=162, bias=True)\n",
       "    (4_SILU): SiLU()\n",
       "    (5): Linear(in_features=162, out_features=102, bias=True)\n",
       "    (5_SILU): SiLU()\n",
       "    (6): Linear(in_features=102, out_features=65, bias=True)\n",
       "    (6_SILU): SiLU()\n",
       "    (7): Linear(in_features=65, out_features=41, bias=True)\n",
       "    (7_SILU): SiLU()\n",
       "    (8): Linear(in_features=41, out_features=26, bias=True)\n",
       "    (8_SILU): SiLU()\n",
       "    (9): Linear(in_features=26, out_features=17, bias=True)\n",
       "    (9_SILU): SiLU()\n",
       "    (10): Linear(in_features=17, out_features=11, bias=True)\n",
       "    (10_SILU): SiLU()\n",
       "    (11): Linear(in_features=11, out_features=7, bias=True)\n",
       "    (11_SILU): SiLU()\n",
       "    (12): Linear(in_features=7, out_features=5, bias=True)\n",
       "    (12_SILU): SiLU()\n",
       "    (13): Linear(in_features=5, out_features=3, bias=True)\n",
       "    (13_SILU): SiLU()\n",
       "    (14): Linear(in_features=3, out_features=2, bias=True)\n",
       "    (14_SILU): SiLU()\n",
       "    (15): Linear(in_features=2, out_features=1, bias=True)\n",
       "  )\n",
       ")"
      ]
     },
     "execution_count": 77,
     "metadata": {},
     "output_type": "execute_result"
    }
   ],
   "source": [
    "HModel"
   ]
  },
  {
   "cell_type": "code",
   "execution_count": 78,
   "metadata": {},
   "outputs": [
    {
     "name": "stderr",
     "output_type": "stream",
     "text": [
      "100%|██████████| 100/100 [01:06<00:00,  1.50it/s]\n"
     ]
    }
   ],
   "source": [
    "errorl2_list_low = []\n",
    "errorl2_list_high = []\n",
    "# 遍历所有的lengthscale 设置\n",
    "\n",
    "for i in tqdm(range(100)):\n",
    "    # 遍历每个lengthscale的采样例子\n",
    "    errorl2_Forlengthscale_low=[]\n",
    "    errorl2_Forlengthscale_high=[]\n",
    "    for j in range(num_samples):\n",
    "        Inputs =[]\n",
    "        randomFiled_input = Val_all_data[i]['randomfield_sample'][j].reshape((1,-1))\n",
    "        outputs =Val_all_data[i]['outputs'][j].reshape((1,-1))  #FVM 计算出的值\n",
    "        # outputs = (outputs-train_std_label)/train_std_label\n",
    "        pre_label = []  #存储预测指数\n",
    "        for k in range(nx*ny):\n",
    "            input = np.append(randomFiled_input,cellcenters[k])\n",
    "            Inputs.append(input)\n",
    "        Inputs = np.array(Inputs,dtype=np.float32)\n",
    "        Inputs = torch.from_numpy(Inputs).cuda()\n",
    "        pre_label = MyModel(Inputs).detach().cpu().numpy()\n",
    "        pre_label = train_std_label*pre_label+train_mean_label\n",
    "        pre_error = HModel(Inputs).detach().cpu().numpy()\n",
    "        pre_error = high_std*pre_error+high_mean\n",
    "        pre_res = pre_label +pre_error\n",
    "        one_errorl2_high=np.linalg.norm(pre_res.squeeze()-outputs.squeeze())/np.linalg.norm(outputs.squeeze())\n",
    "        one_errorl2_low=np.linalg.norm(pre_label.squeeze()-outputs.squeeze())/np.linalg.norm(outputs.squeeze())\n",
    "        errorl2_Forlengthscale_low.append(one_errorl2_low)\n",
    "        errorl2_Forlengthscale_high.append(one_errorl2_high)\n",
    "    errorl2_list_low.append(np.mean(errorl2_Forlengthscale_low,axis=0))\n",
    "    errorl2_list_high.append(np.mean(errorl2_Forlengthscale_high,axis=0))\n",
    "    "
   ]
  },
  {
   "cell_type": "code",
   "execution_count": 79,
   "metadata": {},
   "outputs": [
    {
     "data": {
      "image/png": "[encoded data removed]",
      "text/plain": [
       "<Figure size 432x288 with 4 Axes>"
      ]
     },
     "metadata": {
      "needs_background": "light"
     },
     "output_type": "display_data"
    }
   ],
   "source": [
    "from matplotlib import pyplot as plt\n",
    "\n",
    "errorarray_low = np.array(errorl2_list_low).reshape((10,10))\n",
    "errorarray_high = np.array(errorl2_list_high).reshape((10,10))\n",
    "\n",
    "\n",
    "\n",
    "fig = plt.figure(constrained_layout=True)\n",
    "nrows, ncols = 1, 4\n",
    "w1, w2 = 20, 1\n",
    "gspec = gridspec.GridSpec(ncols=ncols, nrows=nrows, figure=fig, width_ratios=[w1, w2,w1,w2])\n",
    "\n",
    "ax = plt.subplot(gspec[0, 0], aspect=w1)\n",
    "ax.set_xlim(0, 1)\n",
    "ax.set_xticks(np.linspace(0, 1, 4 + 1))\n",
    "ax.set_xlabel(\"X Label\")\n",
    "ax.set_ylim(0, 1)\n",
    "ax.set_yticks(np.linspace(0, 1, 4 + 1))\n",
    "ax.set_ylabel(\"Y Label\")\n",
    "ax.set_title(\"low\", family=\"Roboto\", weight=500)\n",
    "I = ax.imshow(errorarray_low[::-1,:], extent=[0, 1, 0, 1])\n",
    "\n",
    "ax = plt.subplot(gspec[0, 1], aspect='auto')\n",
    "plt.colorbar(I, cax=ax,shrink=0.5,format='%.3f')\n",
    "\n",
    "# 第二幅图片\n",
    "ax = plt.subplot(gspec[0, 2], aspect=w1)\n",
    "ax.set_xlim(0, 1)\n",
    "ax.set_xticks(np.linspace(0, 1, 4 + 1))\n",
    "ax.set_xlabel(\"X Label\")\n",
    "ax.set_ylim(0, 1)\n",
    "ax.set_yticks(np.linspace(0, 1, 4 + 1))\n",
    "ax.set_ylabel(\"Y Label\")\n",
    "ax.set_title(\"high\", family=\"Roboto\", weight=500)\n",
    "I = ax.imshow(errorarray_high[::-1,:], extent=[0, 1, 0, 1])\n",
    "\n",
    "ax = plt.subplot(gspec[0, 3], aspect='auto')\n",
    "plt.colorbar(I, cax=ax,shrink=0.5,format='%.3f')\n",
    "\n",
    "plt.show()"
   ]
  },
  {
   "cell_type": "code",
   "execution_count": 80,
   "metadata": {},
   "outputs": [
    {
     "name": "stdout",
     "output_type": "stream",
     "text": [
      "0.05169932616487915\n",
      "0.07041644821683865\n"
     ]
    }
   ],
   "source": [
    "print(errorarray_low[0,0])\n",
    "print(errorarray_high[0,0])"
   ]
  },
  {
   "cell_type": "code",
   "execution_count": 81,
   "metadata": {},
   "outputs": [
    {
     "data": {
      "text/plain": [
       "array([[False, False, False, False, False, False, False, False, False,\n",
       "        False],\n",
       "       [False, False, False, False, False, False, False, False, False,\n",
       "        False],\n",
       "       [False, False, False, False, False, False, False, False, False,\n",
       "        False],\n",
       "       [False, False, False, False, False, False, False, False, False,\n",
       "        False],\n",
       "       [False, False, False, False, False, False, False, False, False,\n",
       "        False],\n",
       "       [False, False, False, False, False, False, False, False, False,\n",
       "        False],\n",
       "       [False, False, False, False, False, False, False, False, False,\n",
       "        False],\n",
       "       [False, False, False, False, False, False, False, False, False,\n",
       "        False],\n",
       "       [False, False, False, False, False, False, False, False, False,\n",
       "        False],\n",
       "       [False, False, False, False, False, False, False, False, False,\n",
       "        False]])"
      ]
     },
     "execution_count": 81,
     "metadata": {},
     "output_type": "execute_result"
    }
   ],
   "source": [
    "errorarray_high<errorarray_low"
   ]
  },
  {
   "cell_type": "markdown",
   "metadata": {},
   "source": [
    "# mutil tasks"
   ]
  },
  {
   "cell_type": "code",
   "execution_count": 87,
   "metadata": {},
   "outputs": [],
   "source": [
    "lengthscale_pair_array_file = \"lengthscale_pair_array.pkl\"\n",
    "lengthscale_pair_array = joblib.load(os.path.join(datadir,lengthscale_pair_array_file))\n"
   ]
  },
  {
   "cell_type": "code",
   "execution_count": 96,
   "metadata": {},
   "outputs": [
    {
     "data": {
      "text/plain": [
       "<matplotlib.collections.PathCollection at 0x7fc8aded54c0>"
      ]
     },
     "execution_count": 96,
     "metadata": {},
     "output_type": "execute_result"
    },
    {
     "data": {
      "image/png": "[encoded data removed]",
      "text/plain": [
       "<Figure size 432x288 with 1 Axes>"
      ]
     },
     "metadata": {
      "needs_background": "light"
     },
     "output_type": "display_data"
    }
   ],
   "source": [
    "plt.scatter(lengthscale_pair_array[:,0],lengthscale_pair_array[:,1])"
   ]
  },
  {
   "cell_type": "code",
   "execution_count": 114,
   "metadata": {},
   "outputs": [],
   "source": [
    "def Find_Recent(AllArray, TargetCor, k):\n",
    "    \"\"\"\n",
    "    找到点集中距离目标点(x, y)最近的k个点\n",
    "    :param x: 点集的x坐标\n",
    "    :param y: 点集的y坐标\n",
    "    :param x_: 目标点的x坐标\n",
    "    :param y_: 目标点的y坐标\n",
    "    :param k: 距离目标点最近的k个值\n",
    "    :return: k个与目标点最近的点的集合\n",
    "    \"\"\"\n",
    "    distance_list = []\n",
    "    for i in range(AllArray.shape[0]):\n",
    "        distance_list.append(np.linalg.norm(AllArray[i]-TargetCor))\n",
    "    sorted_id = sorted(range(len(distance_list)), key=lambda k: distance_list[k], reverse=False)\n",
    "\n",
    "    return sorted_id[:k]\n",
    "\n",
    "\n",
    "TargetCor = np.array([0.5,0.5])\n",
    "selectedList = Find_Recent(lengthscale_pair_array,TargetCor,5)"
   ]
  },
  {
   "cell_type": "code",
   "execution_count": 149,
   "metadata": {},
   "outputs": [
    {
     "name": "stderr",
     "output_type": "stream",
     "text": [
      "100%|██████████| 100/100 [01:24<00:00,  1.19it/s]\n"
     ]
    }
   ],
   "source": [
    "\n",
    "\n",
    "errorl2_list = []\n",
    "Kmodel = 5  # \n",
    "# 遍历所有的lengthscale 设置\n",
    "\n",
    "for i in tqdm(range(100)):\n",
    "    # 遍历每个lengthscale的采样例子\n",
    "    TargetCor = Val_all_data[i]['lengthscale_pair']\n",
    "    selectedList = Find_Recent(lengthscale_pair_array,TargetCor,Kmodel)\n",
    "    for k in range(Kmodel):\n",
    "        selected_lengthscale_pair = lengthscale_pair_array[selectedList[k]]\n",
    "        exec(\"model\"+str(k)+\"= FNN(1026,7,2)\")\n",
    "        exec(\"model\"+str(k)+\"= FNN(1026,7,2)\")\n",
    "        save_model_name = \"meat_\"+str(selected_lengthscale_pair[0])+\"_\"+str(selected_lengthscale_pair[1])+\".pth\"\n",
    "        exec(\"model\"+str(k)+\".load_state_dict(torch.load(\\\"/home/huangjg/MyFiles/deep-uq-paper/meta_torch/MyReptile/pth/\"+save_model_name+\"\\\"))\")\n",
    "        exec(\"model\"+str(k)+\".cuda()\")\n",
    "        exec(\"model\"+str(k)+\".eval()\")\n",
    "    errorl2_Forlengthscale=[]\n",
    "    for j in range(num_samples):\n",
    "        Inputs =[]\n",
    "        randomFiled_input = Val_all_data[i]['randomfield_sample'][j].reshape((1,-1))\n",
    "        outputs =Val_all_data[i]['outputs'][j].reshape((1,-1))  #FVM 计算出的值\n",
    "        for k in range(nx*ny):\n",
    "            input = np.append(randomFiled_input,cellcenters[k])\n",
    "            Inputs.append(input)\n",
    "        Inputs = np.array(Inputs,dtype=np.float32)\n",
    "        Inputs = torch.from_numpy(Inputs).cuda()\n",
    "        # \n",
    "        exec(\"pre_label =model\"+str(0)+\"(Inputs).detach().cpu().numpy()/Kmodel\")\n",
    "        for k in range(1,Kmodel):\n",
    "            exec(\"pre_label +=model\"+str(k)+\"(Inputs).detach().cpu().numpy()/Kmodel\")\n",
    "        pre_label = train_std_label*pre_label+train_mean_label\n",
    "        one_errorl2=np.linalg.norm(pre_label.squeeze()-outputs.squeeze())/np.linalg.norm(outputs.squeeze())\n",
    "        errorl2_Forlengthscale.append(one_errorl2)\n",
    "    errorl2_list.append(np.mean(errorl2_Forlengthscale,axis=0))"
   ]
  },
  {
   "cell_type": "code",
   "execution_count": 161,
   "metadata": {},
   "outputs": [
    {
     "name": "stdout",
     "output_type": "stream",
     "text": [
      "[[0.89236111 0.13888889]\n",
      " [1.         0.13888889]\n",
      " [0.78472222 0.24652778]\n",
      " [0.89236111 0.24652778]\n",
      " [1.         0.24652778]\n",
      " [0.67708333 0.35416667]\n",
      " [0.78472222 0.35416667]\n",
      " [0.89236111 0.35416667]\n",
      " [1.         0.35416667]\n",
      " [0.56944444 0.46180556]\n",
      " [0.67708333 0.46180556]\n",
      " [0.78472222 0.46180556]\n",
      " [0.89236111 0.46180556]\n",
      " [1.         0.46180556]\n",
      " [0.56944444 0.56944444]\n",
      " [0.67708333 0.56944444]\n",
      " [0.78472222 0.56944444]\n",
      " [0.89236111 0.56944444]\n",
      " [1.         0.56944444]\n",
      " [0.56944444 0.67708333]\n",
      " [0.67708333 0.67708333]\n",
      " [0.89236111 0.67708333]\n",
      " [1.         0.67708333]\n",
      " [0.46180556 0.78472222]\n",
      " [0.56944444 0.78472222]\n",
      " [0.67708333 0.78472222]\n",
      " [0.78472222 0.78472222]\n",
      " [0.89236111 0.78472222]\n",
      " [1.         0.78472222]\n",
      " [0.46180556 0.89236111]\n",
      " [0.56944444 0.89236111]\n",
      " [0.67708333 0.89236111]\n",
      " [0.78472222 0.89236111]\n",
      " [0.89236111 0.89236111]\n",
      " [1.         0.89236111]\n",
      " [0.56944444 1.        ]\n",
      " [0.67708333 1.        ]\n",
      " [0.78472222 1.        ]\n",
      " [0.89236111 1.        ]\n",
      " [1.         1.        ]]\n",
      "0.501192575295927 0.30546128200005446\n"
     ]
    }
   ],
   "source": [
    "# print(errorl2_list)\n",
    "val_lengthscale_array  =[]\n",
    "temp_list = []\n",
    "for j in range(100):\n",
    "    val_lengthscale_array.append(Val_all_data[j]['lengthscale_pair'])\n",
    "    if errorl2_list[j] <0.05:\n",
    "        temp_list.append(j) \n",
    "val_lengthscale_array = np.array(val_lengthscale_array)\n",
    "print(val_lengthscale_array[temp_list])\n",
    "# print(lengthscale_pair_array[selectedList])\n",
    "print(train_mean_label,train_std_label)"
   ]
  },
  {
   "cell_type": "code",
   "execution_count": 160,
   "metadata": {},
   "outputs": [
    {
     "data": {
      "text/plain": [
       "array([[0.89236111, 0.13888889],\n",
       "       [1.        , 0.13888889],\n",
       "       [0.78472222, 0.24652778],\n",
       "       [0.89236111, 0.24652778],\n",
       "       [1.        , 0.24652778],\n",
       "       [0.67708333, 0.35416667],\n",
       "       [0.78472222, 0.35416667],\n",
       "       [0.89236111, 0.35416667],\n",
       "       [1.        , 0.35416667],\n",
       "       [0.56944444, 0.46180556],\n",
       "       [0.67708333, 0.46180556],\n",
       "       [0.78472222, 0.46180556],\n",
       "       [0.89236111, 0.46180556],\n",
       "       [1.        , 0.46180556],\n",
       "       [0.56944444, 0.56944444],\n",
       "       [0.67708333, 0.56944444],\n",
       "       [0.78472222, 0.56944444],\n",
       "       [0.89236111, 0.56944444],\n",
       "       [1.        , 0.56944444],\n",
       "       [0.56944444, 0.67708333],\n",
       "       [0.67708333, 0.67708333],\n",
       "       [0.89236111, 0.67708333],\n",
       "       [1.        , 0.67708333],\n",
       "       [0.46180556, 0.78472222],\n",
       "       [0.56944444, 0.78472222],\n",
       "       [0.67708333, 0.78472222],\n",
       "       [0.78472222, 0.78472222],\n",
       "       [0.89236111, 0.78472222],\n",
       "       [1.        , 0.78472222],\n",
       "       [0.46180556, 0.89236111],\n",
       "       [0.56944444, 0.89236111],\n",
       "       [0.67708333, 0.89236111],\n",
       "       [0.78472222, 0.89236111],\n",
       "       [0.89236111, 0.89236111],\n",
       "       [1.        , 0.89236111],\n",
       "       [0.56944444, 1.        ],\n",
       "       [0.67708333, 1.        ],\n",
       "       [0.78472222, 1.        ],\n",
       "       [0.89236111, 1.        ],\n",
       "       [1.        , 1.        ]])"
      ]
     },
     "execution_count": 160,
     "metadata": {},
     "output_type": "execute_result"
    }
   ],
   "source": []
  },
  {
   "cell_type": "code",
   "execution_count": 130,
   "metadata": {},
   "outputs": [
    {
     "data": {
      "text/plain": [
       "(0.0, 1.0)"
      ]
     },
     "execution_count": 130,
     "metadata": {},
     "output_type": "execute_result"
    },
    {
     "data": {
      "image/png": "[encoded data removed]",
      "text/plain": [
       "<Figure size 432x288 with 1 Axes>"
      ]
     },
     "metadata": {
      "needs_background": "light"
     },
     "output_type": "display_data"
    }
   ],
   "source": [
    "plt.scatter(lengthscale_pair_array[selectedList,0],lengthscale_pair_array[selectedList,1])\n",
    "plt.scatter(TargetCor[0],TargetCor[1])\n",
    "plt.xlim(0,1)#X轴范围\n",
    "plt.ylim(0,1)#X轴范围"
   ]
  },
  {
   "cell_type": "code",
   "execution_count": 150,
   "metadata": {},
   "outputs": [
    {
     "data": {
      "image/png": "[encoded data removed]",
      "text/plain": [
       "<Figure size 432x288 with 2 Axes>"
      ]
     },
     "metadata": {
      "needs_background": "light"
     },
     "output_type": "display_data"
    }
   ],
   "source": [
    "\n",
    "\n",
    "\n",
    "errorarray_meta = np.array(errorl2_list).reshape((10,10))\n",
    "\n",
    "\n",
    "\n",
    "fig = plt.figure(constrained_layout=True)\n",
    "nrows, ncols = 1, 2\n",
    "w1, w2 = 20, 1\n",
    "gspec = gridspec.GridSpec(ncols=ncols, nrows=nrows, figure=fig, width_ratios=[w1, w2])\n",
    "\n",
    "ax = plt.subplot(gspec[0, 0], aspect=w1)\n",
    "ax.set_xlim(0, 1)\n",
    "ax.set_xticks(np.linspace(0, 1, 4 + 1))\n",
    "ax.set_xlabel(\"X Label\")\n",
    "ax.set_ylim(0, 1)\n",
    "ax.set_yticks(np.linspace(0, 1, 4 + 1))\n",
    "ax.set_ylabel(\"Y Label\")\n",
    "ax.set_title(\"Title\", family=\"Roboto\", weight=500)\n",
    "I = ax.imshow(errorarray_meta[::-1,:], extent=[0, 1, 0, 1])\n",
    "\n",
    "ax = plt.subplot(gspec[0, 1], aspect='auto')\n",
    "plt.colorbar(I, cax=ax,shrink=0.5,format='%.3f')\n",
    "\n",
    "plt.show()"
   ]
  },
  {
   "cell_type": "code",
   "execution_count": null,
   "metadata": {},
   "outputs": [],
   "source": []
  }
 ],
 "metadata": {
  "interpreter": {
   "hash": "7f05c3d44821a675b6f809c72cb03132ba3872acd908ba29b69ac11404eed840"
  },
  "kernelspec": {
   "display_name": "Python 3.8.12 ('Mytorch')",
   "language": "python",
   "name": "python3"
  },
  "language_info": {
   "codemirror_mode": {
    "name": "ipython",
    "version": 3
   },
   "file_extension": ".py",
   "mimetype": "text/x-python",
   "name": "python",
   "nbconvert_exporter": "python",
   "pygments_lexer": "ipython3",
   "version": "3.8.12"
  },
  "orig_nbformat": 4
 },
 "nbformat": 4,
 "nbformat_minor": 2
}
