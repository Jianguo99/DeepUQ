{
 "cells": [
  {
   "cell_type": "code",
   "execution_count": 33,
   "metadata": {},
   "outputs": [],
   "source": [
    "import numpy as np\n",
    "D = 1028\n",
    "L=15\n",
    "d =1\n",
    "rho =  (1./L)*np.log(d/(D*1.))\n",
    "x = [D] + [int(np.ceil(D*np.exp(rho*i))) for i in range(1, L+1)]  # link function"
   ]
  },
  {
   "cell_type": "code",
   "execution_count": 34,
   "metadata": {},
   "outputs": [
    {
     "data": {
      "text/plain": [
       "[1028, 648, 408, 257, 162, 102, 65, 41, 26, 17, 11, 7, 5, 3, 2, 2]"
      ]
     },
     "execution_count": 34,
     "metadata": {},
     "output_type": "execute_result"
    }
   ],
   "source": [
    "x"
   ]
  },
  {
   "cell_type": "code",
   "execution_count": 24,
   "metadata": {},
   "outputs": [],
   "source": [
    "import torch.nn as nn\n",
    "import numpy as np\n",
    "\n",
    "from model import LossFNN\n",
    "Mymodel = LossFNN(1026,7,1)"
   ]
  },
  {
   "cell_type": "code",
   "execution_count": 25,
   "metadata": {},
   "outputs": [
    {
     "data": {
      "text/plain": [
       "LossFNN(\n",
       "  (seq_model): Sequential(\n",
       "    (1): Linear(in_features=1026, out_features=382, bias=True)\n",
       "    (1_Relu): ReLU()\n",
       "    (2): Linear(in_features=382, out_features=142, bias=True)\n",
       "    (2_Relu): ReLU()\n",
       "    (3): Linear(in_features=142, out_features=53, bias=True)\n",
       "    (3_Relu): ReLU()\n",
       "    (4): Linear(in_features=53, out_features=20, bias=True)\n",
       "    (4_Relu): ReLU()\n",
       "    (5): Linear(in_features=20, out_features=8, bias=True)\n",
       "    (5_Relu): ReLU()\n",
       "    (6): Linear(in_features=8, out_features=3, bias=True)\n",
       "    (6_Relu): ReLU()\n",
       "    (7): Linear(in_features=3, out_features=1, bias=True)\n",
       "    (7_Relu): ReLU()\n",
       "  )\n",
       ")"
      ]
     },
     "execution_count": 25,
     "metadata": {},
     "output_type": "execute_result"
    }
   ],
   "source": [
    "Mymodel"
   ]
  },
  {
   "cell_type": "code",
   "execution_count": 26,
   "metadata": {},
   "outputs": [
    {
     "name": "stdout",
     "output_type": "stream",
     "text": [
      "0    0\n",
      "1    0\n",
      "2    0\n",
      "3    1\n",
      "4    1\n",
      "5    1\n",
      "6    2\n",
      "7    2\n",
      "8    2\n",
      "9    3\n"
     ]
    }
   ],
   "source": [
    "for i in range(10):\n",
    "    print(i,\"  \",i//3)"
   ]
  },
  {
   "cell_type": "code",
   "execution_count": 38,
   "metadata": {},
   "outputs": [
    {
     "data": {
      "text/plain": [
       "'0.600000'"
      ]
     },
     "execution_count": 38,
     "metadata": {},
     "output_type": "execute_result"
    }
   ],
   "source": [
    "ax = {}\n",
    "ax['dd'] = '{:.6f}'.format(0.6)\n",
    "ax['dd']"
   ]
  },
  {
   "cell_type": "code",
   "execution_count": null,
   "metadata": {},
   "outputs": [],
   "source": [
    "import GPy\n",
    "\n",
    "ellx =1\n",
    "elly=1\n",
    "kern = GPy.kern.RBF\n",
    "k=kern(input_dim = 2,\n",
    "        lengthscale = [ellx, elly],\n",
    "        variance = 1,\n",
    "        ARD = True)\n",
    "nx=ny =10\n",
    "x= np.linspace(1/nx,1,10)\n",
    "y= np.linspace(1/ny,1,10)\n",
    "X,Y = np.meshgrid(x,y)\n",
    "coord = np.stack((X,Y), axis=2).reshape(-1,2) \n",
    "C=k.K(coord) + 1e-6*np.eye(coord.shape[0])  # 生成协方差矩阵"
   ]
  }
 ],
 "metadata": {
  "interpreter": {
   "hash": "7f05c3d44821a675b6f809c72cb03132ba3872acd908ba29b69ac11404eed840"
  },
  "kernelspec": {
   "display_name": "Python 3.8.12 ('Mytorch')",
   "language": "python",
   "name": "python3"
  },
  "language_info": {
   "codemirror_mode": {
    "name": "ipython",
    "version": 3
   },
   "file_extension": ".py",
   "mimetype": "text/x-python",
   "name": "python",
   "nbconvert_exporter": "python",
   "pygments_lexer": "ipython3",
   "version": "3.8.12"
  },
  "orig_nbformat": 4
 },
 "nbformat": 4,
 "nbformat_minor": 2
}
