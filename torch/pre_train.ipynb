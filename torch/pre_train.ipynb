{
 "cells": [
  {
   "cell_type": "code",
   "execution_count": 1,
   "metadata": {},
   "outputs": [],
   "source": [
    "import joblib\n",
    "import os\n",
    "import numpy as np\n",
    "from tqdm import tqdm \n",
    "import torch\n",
    "# from keras.backend.tensorflow_backend import set_session ## 和tf.keras不同\n",
    "\n",
    "os.environ['TF_CPP_MIN_LOG_LEVEL'] = '2'  # or any {'0', '1', '2'}\n",
    "#0 是默认值，输出所有信息\n",
    "# 1 是屏蔽通知信息\n",
    "# 2 是屏蔽通知和警告信息\n",
    "###################################\n",
    "###########loading dataset#########\n",
    "###################################\n",
    "l_N = 60   # lengthscale对的数量\n",
    "k_ ='rbf'\n",
    "nx = 32\n",
    "ny = 32\n",
    "num_samples = 100   # 每个随机场采样的样本数"
   ]
  },
  {
   "cell_type": "markdown",
   "metadata": {},
   "source": [
    "# 构建高保真数据集"
   ]
  },
  {
   "cell_type": "code",
   "execution_count": 2,
   "metadata": {},
   "outputs": [],
   "source": [
    "TrainDataFile = k_+\"_l_N_\"+str(l_N)+\"_num_samples_\"+str(num_samples)+\\\n",
    "                    \"_nx_\"+str(nx)+\"_ny_\"+str(ny)+\"_train.pkl\"\n",
    "datadir = \"/home/huangjg/MyFiles/deep-uq-paper/data\"\n",
    "\n",
    "TrainData = joblib.load(os.path.join(datadir,TrainDataFile))"
   ]
  },
  {
   "cell_type": "code",
   "execution_count": 7,
   "metadata": {},
   "outputs": [
    {
     "data": {
      "text/plain": [
       "FNN(\n",
       "  (seq_model): Sequential(\n",
       "    (1): Linear(in_features=1026, out_features=421, bias=True)\n",
       "    (1_Relu): ReLU()\n",
       "    (2): Linear(in_features=421, out_features=173, bias=True)\n",
       "    (2_Relu): ReLU()\n",
       "    (3): Linear(in_features=173, out_features=71, bias=True)\n",
       "    (3_Relu): ReLU()\n",
       "    (4): Linear(in_features=71, out_features=30, bias=True)\n",
       "    (4_Relu): ReLU()\n",
       "    (5): Linear(in_features=30, out_features=12, bias=True)\n",
       "    (5_Relu): ReLU()\n",
       "    (6): Linear(in_features=12, out_features=5, bias=True)\n",
       "    (6_Relu): ReLU()\n",
       "    (7): Linear(in_features=5, out_features=3, bias=True)\n",
       "    (8): Linear(in_features=3, out_features=600, bias=True)\n",
       "    (8_Relu): ReLU()\n",
       "    (9): Linear(in_features=600, out_features=1, bias=True)\n",
       "  )\n",
       ")"
      ]
     },
     "execution_count": 7,
     "metadata": {},
     "output_type": "execute_result"
    }
   ],
   "source": [
    "from model import FNN\n",
    "\n",
    "LFModel = FNN(1026,7,2)  # 低保真模型\n",
    "save_Lmodel_name = k_+\"_l_N_\"+str(l_N)+\"_num_samples_\"+str(num_samples)+\\\n",
    "                    \"_nx_\"+str(nx)+\"_ny_\"+str(ny)+\"_train.pth\"\n",
    "LFModel.load_state_dict(torch.load(os.path.join(\"/home/huangjg/MyFiles/deep-uq-paper/torch\",\"pth\",save_Lmodel_name)) ) #  保存模型参数)\n",
    "LFModel.cuda()\n",
    "LFModel.eval()"
   ]
  },
  {
   "cell_type": "code",
   "execution_count": 10,
   "metadata": {},
   "outputs": [
    {
     "name": "stdout",
     "output_type": "stream",
     "text": [
      "6144000\n"
     ]
    }
   ],
   "source": [
    "Inputs = TrainData[\"Inputs\"]\n",
    "Inputs = np.array(Inputs,dtype=np.float32)\n",
    "Labels = TrainData[\"labels\"]\n",
    "num_data = Inputs.shape[0]\n",
    "print(num_data)"
   ]
  },
  {
   "cell_type": "code",
   "execution_count": 20,
   "metadata": {},
   "outputs": [],
   "source": [
    "i=0\n",
    "batch_size = 2048\n",
    "h_labels = Labels.copy()\n",
    "while   (i+1)*batch_size<=num_data:\n",
    "    inputs = Inputs[i*batch_size:(i+1)*batch_size]\n",
    "    inputs = torch.from_numpy(inputs).cuda()\n",
    "    pre_label = LFModel(inputs).detach().cpu().numpy()\n",
    "    h_labels[i*batch_size:(i+1)*batch_size] = Labels[i*batch_size:(i+1)*batch_size]-pre_label.squeeze()\n",
    "    i+=1\n",
    "    \n"
   ]
  },
  {
   "cell_type": "code",
   "execution_count": 23,
   "metadata": {},
   "outputs": [
    {
     "name": "stdout",
     "output_type": "stream",
     "text": [
      "0.0005513662228722254\n",
      "0.03950530089254518\n"
     ]
    }
   ],
   "source": [
    "train_mean_label = np.mean(h_labels,axis=0)\n",
    "train_std_label = np.std(h_labels,axis=0)\n",
    "print(train_mean_label)\n",
    "print(train_std_label)\n"
   ]
  },
  {
   "cell_type": "code",
   "execution_count": 24,
   "metadata": {},
   "outputs": [
    {
     "data": {
      "text/plain": [
       "['/home/huangjg/MyFiles/deep-uq-paper/data/rbf_l_N_60_num_samples_100_nx_32_ny_32_train_low.pkl']"
      ]
     },
     "execution_count": 24,
     "metadata": {},
     "output_type": "execute_result"
    }
   ],
   "source": [
    "h_labels =(h_labels-train_mean_label) /train_std_label\n",
    "\n",
    "HighTrainData = {\n",
    "            \"labels\":h_labels,\n",
    "            \"normal\":[train_mean_label,train_std_label,],}\n",
    "\n",
    "HighTrainDataFile = k_+\"_l_N_\"+str(l_N)+\"_num_samples_\"+str(num_samples)+\\\n",
    "                    \"_nx_\"+str(nx)+\"_ny_\"+str(ny)+\"_train_low.pkl\"\n",
    "\n",
    "joblib.dump(HighTrainData,filename=os.path.join(datadir,HighTrainDataFile))\n"
   ]
  },
  {
   "cell_type": "code",
   "execution_count": null,
   "metadata": {},
   "outputs": [],
   "source": []
  }
 ],
 "metadata": {
  "interpreter": {
   "hash": "7f05c3d44821a675b6f809c72cb03132ba3872acd908ba29b69ac11404eed840"
  },
  "kernelspec": {
   "display_name": "Python 3.8.12 ('Mytorch')",
   "language": "python",
   "name": "python3"
  },
  "language_info": {
   "codemirror_mode": {
    "name": "ipython",
    "version": 3
   },
   "file_extension": ".py",
   "mimetype": "text/x-python",
   "name": "python",
   "nbconvert_exporter": "python",
   "pygments_lexer": "ipython3",
   "version": "3.8.12"
  },
  "orig_nbformat": 4
 },
 "nbformat": 4,
 "nbformat_minor": 2
}
